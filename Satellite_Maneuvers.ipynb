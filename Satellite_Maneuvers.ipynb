{
  "nbformat": 4,
  "nbformat_minor": 0,
  "metadata": {
    "colab": {
      "provenance": [],
      "authorship_tag": "ABX9TyMFnldfYMU+a14IAipK3Ouc",
      "include_colab_link": true
    },
    "kernelspec": {
      "name": "python3",
      "display_name": "Python 3"
    },
    "language_info": {
      "name": "python"
    }
  },
  "cells": [
    {
      "cell_type": "markdown",
      "metadata": {
        "id": "view-in-github",
        "colab_type": "text"
      },
      "source": [
        "<a href=\"https://colab.research.google.com/github/aarsh121/Financial-Analysis-using-Python/blob/main/Satellite_Maneuvers.ipynb\" target=\"_parent\"><img src=\"https://colab.research.google.com/assets/colab-badge.svg\" alt=\"Open In Colab\"/></a>"
      ]
    },
    {
      "cell_type": "markdown",
      "source": [
        "# Welcome to Satellite Control Room !!\n",
        "**Here we will learn methods to detect Satellite Maneuvers**"
      ],
      "metadata": {
        "id": "av9cktmUJc1Y"
      }
    },
    {
      "cell_type": "markdown",
      "source": [
        "**Importing Libraries**"
      ],
      "metadata": {
        "id": "_33MiuKvJkxT"
      }
    },
    {
      "cell_type": "code",
      "source": [
        "import pandas as pd\n",
        "import numpy as np\n",
        "import matplotlib.pyplot as plt\n",
        "from datetime import datetime"
      ],
      "metadata": {
        "id": "6CFsRje1JqdM"
      },
      "execution_count": 87,
      "outputs": []
    },
    {
      "cell_type": "markdown",
      "source": [
        "##1- Heuristic Method"
      ],
      "metadata": {
        "id": "TB4SGScHck6q"
      }
    },
    {
      "cell_type": "markdown",
      "source": [
        "**Loading the Dataset**"
      ],
      "metadata": {
        "id": "F3e7HtQnJtef"
      }
    },
    {
      "cell_type": "code",
      "source": [
        "data = pd.read_csv('SMA_data.csv', parse_dates=['Datetime'])\n",
        "data.dtypes"
      ],
      "metadata": {
        "colab": {
          "base_uri": "https://localhost:8080/",
          "height": 147
        },
        "id": "U7oPO8raJwlR",
        "outputId": "c43cfe5e-d530-4895-deac-df8b09a48682"
      },
      "execution_count": 88,
      "outputs": [
        {
          "output_type": "execute_result",
          "data": {
            "text/plain": [
              "Datetime    datetime64[ns]\n",
              "SMA                float64\n",
              "dtype: object"
            ],
            "text/html": [
              "<div>\n",
              "<style scoped>\n",
              "    .dataframe tbody tr th:only-of-type {\n",
              "        vertical-align: middle;\n",
              "    }\n",
              "\n",
              "    .dataframe tbody tr th {\n",
              "        vertical-align: top;\n",
              "    }\n",
              "\n",
              "    .dataframe thead th {\n",
              "        text-align: right;\n",
              "    }\n",
              "</style>\n",
              "<table border=\"1\" class=\"dataframe\">\n",
              "  <thead>\n",
              "    <tr style=\"text-align: right;\">\n",
              "      <th></th>\n",
              "      <th>0</th>\n",
              "    </tr>\n",
              "  </thead>\n",
              "  <tbody>\n",
              "    <tr>\n",
              "      <th>Datetime</th>\n",
              "      <td>datetime64[ns]</td>\n",
              "    </tr>\n",
              "    <tr>\n",
              "      <th>SMA</th>\n",
              "      <td>float64</td>\n",
              "    </tr>\n",
              "  </tbody>\n",
              "</table>\n",
              "</div><br><label><b>dtype:</b> object</label>"
            ]
          },
          "metadata": {},
          "execution_count": 88
        }
      ]
    },
    {
      "cell_type": "markdown",
      "source": [
        "### 1.1- Detection Based on Speed Change\n",
        "\n"
      ],
      "metadata": {
        "id": "bbD6oNzGc7LD"
      }
    },
    {
      "cell_type": "code",
      "source": [
        "# Difference between consecutive points in seconds\n",
        "data['Time_Diff'] = data['Datetime'].diff().dt.total_seconds()\n",
        "\n",
        "# Difference in SMA between consecutive points\n",
        "data['SMA_Diff'] = data['SMA'].diff()\n",
        "\n",
        "# Calculating the speed (SMA change per time unit)\n",
        "data['Speed'] = data['SMA_Diff'] / data['Time_Diff']\n",
        "\n",
        "# Plot the speed over time to visualize potential anomalies\n",
        "plt.figure(figsize=(10, 6))\n",
        "plt.plot(data['Datetime'], data['Speed'], label='Speed (SMA rate of change)', color='b')\n",
        "plt.title('Satellite Maneuver Detection Based on Speed')\n",
        "plt.xlabel('Date')\n",
        "plt.ylabel('Speed (km/s)')\n",
        "plt.legend()\n",
        "plt.grid(True)\n",
        "\n",
        "# Highlighting possible maneuvers where significant speed differences occur\n",
        "maneuvers = data[np.abs(data['Speed']) > data['Speed'].std()] #We can experiment with diff std\n",
        "plt.scatter(maneuvers['Datetime'], maneuvers['Speed'], color='r', label='Potential Maneuver', zorder=5)\n",
        "\n",
        "plt.legend()\n",
        "plt.xticks(rotation=45)\n",
        "plt.tight_layout()\n",
        "plt.show()"
      ],
      "metadata": {
        "colab": {
          "base_uri": "https://localhost:8080/",
          "height": 607
        },
        "id": "PDyyFbPnFCQc",
        "outputId": "0d3fa03c-9e86-430f-d3dd-293cc24d9974"
      },
      "execution_count": 89,
      "outputs": [
        {
          "output_type": "display_data",
          "data": {
            "text/plain": [
              "<Figure size 1000x600 with 1 Axes>"
            ],
            "image/png": "[encoded data removed]"
          },
          "metadata": {}
        }
      ]
    },
    {
      "cell_type": "code",
      "source": [
        "# Displaying the dates where maneuvers were likely to have occurred\n",
        "maneuver_dates_speed = maneuvers['Datetime']\n",
        "maneuver_dates_speed.head()\n"
      ],
      "metadata": {
        "colab": {
          "base_uri": "https://localhost:8080/",
          "height": 241
        },
        "id": "5An2fO10ag7W",
        "outputId": "91e6b830-d36e-440d-b510-d364fb7b3bb0"
      },
      "execution_count": 116,
      "outputs": [
        {
          "output_type": "execute_result",
          "data": {
            "text/plain": [
              "384    2018-05-03 12:01:31.056960\n",
              "871    2018-10-11 13:37:04.556640\n",
              "872    2018-10-11 19:59:53.915424\n",
              "1421   2019-03-26 04:53:33.243936\n",
              "1422   2019-03-27 04:34:36.436800\n",
              "Name: Datetime, dtype: datetime64[ns]"
            ],
            "text/html": [
              "<div>\n",
              "<style scoped>\n",
              "    .dataframe tbody tr th:only-of-type {\n",
              "        vertical-align: middle;\n",
              "    }\n",
              "\n",
              "    .dataframe tbody tr th {\n",
              "        vertical-align: top;\n",
              "    }\n",
              "\n",
              "    .dataframe thead th {\n",
              "        text-align: right;\n",
              "    }\n",
              "</style>\n",
              "<table border=\"1\" class=\"dataframe\">\n",
              "  <thead>\n",
              "    <tr style=\"text-align: right;\">\n",
              "      <th></th>\n",
              "      <th>Datetime</th>\n",
              "    </tr>\n",
              "  </thead>\n",
              "  <tbody>\n",
              "    <tr>\n",
              "      <th>384</th>\n",
              "      <td>2018-05-03 12:01:31.056960</td>\n",
              "    </tr>\n",
              "    <tr>\n",
              "      <th>871</th>\n",
              "      <td>2018-10-11 13:37:04.556640</td>\n",
              "    </tr>\n",
              "    <tr>\n",
              "      <th>872</th>\n",
              "      <td>2018-10-11 19:59:53.915424</td>\n",
              "    </tr>\n",
              "    <tr>\n",
              "      <th>1421</th>\n",
              "      <td>2019-03-26 04:53:33.243936</td>\n",
              "    </tr>\n",
              "    <tr>\n",
              "      <th>1422</th>\n",
              "      <td>2019-03-27 04:34:36.436800</td>\n",
              "    </tr>\n",
              "  </tbody>\n",
              "</table>\n",
              "</div><br><label><b>dtype:</b> datetime64[ns]</label>"
            ]
          },
          "metadata": {},
          "execution_count": 116
        }
      ]
    },
    {
      "cell_type": "markdown",
      "source": [
        "### 1.2- Detection Based on Change in SMA"
      ],
      "metadata": {
        "id": "y0MeRhDhdLXC"
      }
    },
    {
      "cell_type": "code",
      "execution_count": 91,
      "metadata": {
        "id": "3xUtozhmtJ6q"
      },
      "outputs": [],
      "source": [
        "# Set a threshold for detecting significant changes in the semi-major axis\n",
        "threshold = data['SMA_Diff'].std() * 2  # Two standard deviations from the mean\n",
        "\n",
        "# Detect maneuvers: Mark points where the change in SMA exceeds the threshold\n",
        "data['Maneuver'] = np.abs(data['SMA_Diff']) > threshold\n"
      ]
    },
    {
      "cell_type": "code",
      "source": [
        "maneuver_dates_SMA = data[data['Maneuver']]['Datetime']\n",
        "\n",
        "print(\"Detected Maneuver Dates:\")\n",
        "for date in maneuver_dates_SMA:\n",
        "    print(date)"
      ],
      "metadata": {
        "colab": {
          "base_uri": "https://localhost:8080/"
        },
        "id": "A1hUngQQa1g6",
        "outputId": "0cba1f95-0d9e-4fa3-a6dc-5ba9bdc48cdc"
      },
      "execution_count": 92,
      "outputs": [
        {
          "output_type": "stream",
          "name": "stdout",
          "text": [
            "Detected Maneuver Dates:\n",
            "2018-05-03 12:01:31.056960\n",
            "2018-10-11 13:37:04.556640\n",
            "2019-03-26 04:53:33.243936\n",
            "2019-03-27 04:34:36.436800\n",
            "2019-03-27 20:25:37.599168\n",
            "2019-05-15 10:44:36.864096\n",
            "2019-05-17 05:11:39.372288\n",
            "2019-09-11 04:28:22.151136\n"
          ]
        }
      ]
    },
    {
      "cell_type": "code",
      "source": [
        "plt.figure(figsize=(12, 6))\n",
        "plt.plot(data['Datetime'], data['SMA'], label='SMA')\n",
        "\n",
        "# Plotting detected maneuvers\n",
        "plt.scatter(maneuver_dates_SMA, data[data['Maneuver']]['SMA'], color='red', label='Detected Maneuver', zorder=5)\n",
        "\n",
        "plt.xlabel('DateTime')\n",
        "plt.ylabel('SMA')\n",
        "plt.title('Orbital Maneuver Detection Based on SMA Variations')\n",
        "plt.legend()\n",
        "plt.show()"
      ],
      "metadata": {
        "colab": {
          "base_uri": "https://localhost:8080/",
          "height": 564
        },
        "id": "JOgltoJ0aYo_",
        "outputId": "ae5523bd-9281-436d-b23b-fcc24e4928d2"
      },
      "execution_count": 93,
      "outputs": [
        {
          "output_type": "display_data",
          "data": {
            "text/plain": [
              "<Figure size 1200x600 with 1 Axes>"
            ],
            "image/png": "[encoded data removed]"
          },
          "metadata": {}
        }
      ]
    },
    {
      "cell_type": "markdown",
      "source": [
        "##2- Random Forest ML Model"
      ],
      "metadata": {
        "id": "rqCiFQ4ic0Ke"
      }
    },
    {
      "cell_type": "code",
      "source": [
        "from sklearn.model_selection import train_test_split\n",
        "from sklearn.ensemble import RandomForestClassifier\n",
        "from sklearn.metrics import classification_report, accuracy_score, confusion_matrix"
      ],
      "metadata": {
        "id": "xPHp0PyCdh7f"
      },
      "execution_count": 94,
      "outputs": []
    },
    {
      "cell_type": "code",
      "source": [
        "data = pd.read_csv('SMA_data.csv', parse_dates=['Datetime'])"
      ],
      "metadata": {
        "id": "r_kxH9redwCB"
      },
      "execution_count": 95,
      "outputs": []
    },
    {
      "cell_type": "code",
      "source": [
        "# Feature Engineering: Compute the difference in SMA between consecutive timestamps\n",
        "data['SMA_diff'] = data['SMA'].diff()\n",
        "data['SMA_diff_shift'] = data['SMA_diff'].shift(-1)\n",
        "data.head()"
      ],
      "metadata": {
        "colab": {
          "base_uri": "https://localhost:8080/",
          "height": 206
        },
        "id": "6RAi0LwgdgY2",
        "outputId": "638e3b65-d03f-4f9f-c669-5e7d7ba31fa4"
      },
      "execution_count": 96,
      "outputs": [
        {
          "output_type": "execute_result",
          "data": {
            "text/plain": [
              "                    Datetime          SMA  SMA_diff  SMA_diff_shift\n",
              "0 2018-01-01 04:34:10.320672  6864.691463       NaN       -0.001799\n",
              "1 2018-01-01 12:37:36.596064  6864.689664 -0.001799       -0.001079\n",
              "2 2018-01-01 20:31:55.898112  6864.688585 -0.001079       -0.003658\n",
              "3 2018-01-02 05:42:49.014720  6864.684927 -0.003658       -0.002069\n",
              "4 2018-01-02 12:13:01.263360  6864.682858 -0.002069       -0.001589"
            ],
            "text/html": [
              "\n",
              "  <div id=\"df-8689d847-a463-4610-8040-e6f8385ecfc1\" class=\"colab-df-container\">\n",
              "    <div>\n",
              "<style scoped>\n",
              "    .dataframe tbody tr th:only-of-type {\n",
              "        vertical-align: middle;\n",
              "    }\n",
              "\n",
              "    .dataframe tbody tr th {\n",
              "        vertical-align: top;\n",
              "    }\n",
              "\n",
              "    .dataframe thead th {\n",
              "        text-align: right;\n",
              "    }\n",
              "</style>\n",
              "<table border=\"1\" class=\"dataframe\">\n",
              "  <thead>\n",
              "    <tr style=\"text-align: right;\">\n",
              "      <th></th>\n",
              "      <th>Datetime</th>\n",
              "      <th>SMA</th>\n",
              "      <th>SMA_diff</th>\n",
              "      <th>SMA_diff_shift</th>\n",
              "    </tr>\n",
              "  </thead>\n",
              "  <tbody>\n",
              "    <tr>\n",
              "      <th>0</th>\n",
              "      <td>2018-01-01 04:34:10.320672</td>\n",
              "      <td>6864.691463</td>\n",
              "      <td>NaN</td>\n",
              "      <td>-0.001799</td>\n",
              "    </tr>\n",
              "    <tr>\n",
              "      <th>1</th>\n",
              "      <td>2018-01-01 12:37:36.596064</td>\n",
              "      <td>6864.689664</td>\n",
              "      <td>-0.001799</td>\n",
              "      <td>-0.001079</td>\n",
              "    </tr>\n",
              "    <tr>\n",
              "      <th>2</th>\n",
              "      <td>2018-01-01 20:31:55.898112</td>\n",
              "      <td>6864.688585</td>\n",
              "      <td>-0.001079</td>\n",
              "      <td>-0.003658</td>\n",
              "    </tr>\n",
              "    <tr>\n",
              "      <th>3</th>\n",
              "      <td>2018-01-02 05:42:49.014720</td>\n",
              "      <td>6864.684927</td>\n",
              "      <td>-0.003658</td>\n",
              "      <td>-0.002069</td>\n",
              "    </tr>\n",
              "    <tr>\n",
              "      <th>4</th>\n",
              "      <td>2018-01-02 12:13:01.263360</td>\n",
              "      <td>6864.682858</td>\n",
              "      <td>-0.002069</td>\n",
              "      <td>-0.001589</td>\n",
              "    </tr>\n",
              "  </tbody>\n",
              "</table>\n",
              "</div>\n",
              "    <div class=\"colab-df-buttons\">\n",
              "\n",
              "  <div class=\"colab-df-container\">\n",
              "    <button class=\"colab-df-convert\" onclick=\"convertToInteractive('df-8689d847-a463-4610-8040-e6f8385ecfc1')\"\n",
              "            title=\"Convert this dataframe to an interactive table.\"\n",
              "            style=\"display:none;\">\n",
              "\n",
              "  <svg xmlns=\"http://www.w3.org/2000/svg\" height=\"24px\" viewBox=\"0 -960 960 960\">\n",
              "    <path d=\"M120-120v-720h720v720H120Zm60-500h600v-160H180v160Zm220 220h160v-160H400v160Zm0 220h160v-160H400v160ZM180-400h160v-160H180v160Zm440 0h160v-160H620v160ZM180-180h160v-160H180v160Zm440 0h160v-160H620v160Z\"/>\n",
              "  </svg>\n",
              "    </button>\n",
              "\n",
              "  <style>\n",
              "    .colab-df-container {\n",
              "      display:flex;\n",
              "      gap: 12px;\n",
              "    }\n",
              "\n",
              "    .colab-df-convert {\n",
              "      background-color: #E8F0FE;\n",
              "      border: none;\n",
              "      border-radius: 50%;\n",
              "      cursor: pointer;\n",
              "      display: none;\n",
              "      fill: #1967D2;\n",
              "      height: 32px;\n",
              "      padding: 0 0 0 0;\n",
              "      width: 32px;\n",
              "    }\n",
              "\n",
              "    .colab-df-convert:hover {\n",
              "      background-color: #E2EBFA;\n",
              "      box-shadow: 0px 1px 2px rgba(60, 64, 67, 0.3), 0px 1px 3px 1px rgba(60, 64, 67, 0.15);\n",
              "      fill: #174EA6;\n",
              "    }\n",
              "\n",
              "    .colab-df-buttons div {\n",
              "      margin-bottom: 4px;\n",
              "    }\n",
              "\n",
              "    [theme=dark] .colab-df-convert {\n",
              "      background-color: #3B4455;\n",
              "      fill: #D2E3FC;\n",
              "    }\n",
              "\n",
              "    [theme=dark] .colab-df-convert:hover {\n",
              "      background-color: #434B5C;\n",
              "      box-shadow: 0px 1px 3px 1px rgba(0, 0, 0, 0.15);\n",
              "      filter: drop-shadow(0px 1px 2px rgba(0, 0, 0, 0.3));\n",
              "      fill: #FFFFFF;\n",
              "    }\n",
              "  </style>\n",
              "\n",
              "    <script>\n",
              "      const buttonEl =\n",
              "        document.querySelector('#df-8689d847-a463-4610-8040-e6f8385ecfc1 button.colab-df-convert');\n",
              "      buttonEl.style.display =\n",
              "        google.colab.kernel.accessAllowed ? 'block' : 'none';\n",
              "\n",
              "      async function convertToInteractive(key) {\n",
              "        const element = document.querySelector('#df-8689d847-a463-4610-8040-e6f8385ecfc1');\n",
              "        const dataTable =\n",
              "          await google.colab.kernel.invokeFunction('convertToInteractive',\n",
              "                                                    [key], {});\n",
              "        if (!dataTable) return;\n",
              "\n",
              "        const docLinkHtml = 'Like what you see? Visit the ' +\n",
              "          '<a target=\"_blank\" href=https://colab.research.google.com/notebooks/data_table.ipynb>data table notebook</a>'\n",
              "          + ' to learn more about interactive tables.';\n",
              "        element.innerHTML = '';\n",
              "        dataTable['output_type'] = 'display_data';\n",
              "        await google.colab.output.renderOutput(dataTable, element);\n",
              "        const docLink = document.createElement('div');\n",
              "        docLink.innerHTML = docLinkHtml;\n",
              "        element.appendChild(docLink);\n",
              "      }\n",
              "    </script>\n",
              "  </div>\n",
              "\n",
              "\n",
              "<div id=\"df-6fccb3bc-7fe1-436e-b1cd-57f6a741367d\">\n",
              "  <button class=\"colab-df-quickchart\" onclick=\"quickchart('df-6fccb3bc-7fe1-436e-b1cd-57f6a741367d')\"\n",
              "            title=\"Suggest charts\"\n",
              "            style=\"display:none;\">\n",
              "\n",
              "<svg xmlns=\"http://www.w3.org/2000/svg\" height=\"24px\"viewBox=\"0 0 24 24\"\n",
              "     width=\"24px\">\n",
              "    <g>\n",
              "        <path d=\"M19 3H5c-1.1 0-2 .9-2 2v14c0 1.1.9 2 2 2h14c1.1 0 2-.9 2-2V5c0-1.1-.9-2-2-2zM9 17H7v-7h2v7zm4 0h-2V7h2v10zm4 0h-2v-4h2v4z\"/>\n",
              "    </g>\n",
              "</svg>\n",
              "  </button>\n",
              "\n",
              "<style>\n",
              "  .colab-df-quickchart {\n",
              "      --bg-color: #E8F0FE;\n",
              "      --fill-color: #1967D2;\n",
              "      --hover-bg-color: #E2EBFA;\n",
              "      --hover-fill-color: #174EA6;\n",
              "      --disabled-fill-color: #AAA;\n",
              "      --disabled-bg-color: #DDD;\n",
              "  }\n",
              "\n",
              "  [theme=dark] .colab-df-quickchart {\n",
              "      --bg-color: #3B4455;\n",
              "      --fill-color: #D2E3FC;\n",
              "      --hover-bg-color: #434B5C;\n",
              "      --hover-fill-color: #FFFFFF;\n",
              "      --disabled-bg-color: #3B4455;\n",
              "      --disabled-fill-color: #666;\n",
              "  }\n",
              "\n",
              "  .colab-df-quickchart {\n",
              "    background-color: var(--bg-color);\n",
              "    border: none;\n",
              "    border-radius: 50%;\n",
              "    cursor: pointer;\n",
              "    display: none;\n",
              "    fill: var(--fill-color);\n",
              "    height: 32px;\n",
              "    padding: 0;\n",
              "    width: 32px;\n",
              "  }\n",
              "\n",
              "  .colab-df-quickchart:hover {\n",
              "    background-color: var(--hover-bg-color);\n",
              "    box-shadow: 0 1px 2px rgba(60, 64, 67, 0.3), 0 1px 3px 1px rgba(60, 64, 67, 0.15);\n",
              "    fill: var(--button-hover-fill-color);\n",
              "  }\n",
              "\n",
              "  .colab-df-quickchart-complete:disabled,\n",
              "  .colab-df-quickchart-complete:disabled:hover {\n",
              "    background-color: var(--disabled-bg-color);\n",
              "    fill: var(--disabled-fill-color);\n",
              "    box-shadow: none;\n",
              "  }\n",
              "\n",
              "  .colab-df-spinner {\n",
              "    border: 2px solid var(--fill-color);\n",
              "    border-color: transparent;\n",
              "    border-bottom-color: var(--fill-color);\n",
              "    animation:\n",
              "      spin 1s steps(1) infinite;\n",
              "  }\n",
              "\n",
              "  @keyframes spin {\n",
              "    0% {\n",
              "      border-color: transparent;\n",
              "      border-bottom-color: var(--fill-color);\n",
              "      border-left-color: var(--fill-color);\n",
              "    }\n",
              "    20% {\n",
              "      border-color: transparent;\n",
              "      border-left-color: var(--fill-color);\n",
              "      border-top-color: var(--fill-color);\n",
              "    }\n",
              "    30% {\n",
              "      border-color: transparent;\n",
              "      border-left-color: var(--fill-color);\n",
              "      border-top-color: var(--fill-color);\n",
              "      border-right-color: var(--fill-color);\n",
              "    }\n",
              "    40% {\n",
              "      border-color: transparent;\n",
              "      border-right-color: var(--fill-color);\n",
              "      border-top-color: var(--fill-color);\n",
              "    }\n",
              "    60% {\n",
              "      border-color: transparent;\n",
              "      border-right-color: var(--fill-color);\n",
              "    }\n",
              "    80% {\n",
              "      border-color: transparent;\n",
              "      border-right-color: var(--fill-color);\n",
              "      border-bottom-color: var(--fill-color);\n",
              "    }\n",
              "    90% {\n",
              "      border-color: transparent;\n",
              "      border-bottom-color: var(--fill-color);\n",
              "    }\n",
              "  }\n",
              "</style>\n",
              "\n",
              "  <script>\n",
              "    async function quickchart(key) {\n",
              "      const quickchartButtonEl =\n",
              "        document.querySelector('#' + key + ' button');\n",
              "      quickchartButtonEl.disabled = true;  // To prevent multiple clicks.\n",
              "      quickchartButtonEl.classList.add('colab-df-spinner');\n",
              "      try {\n",
              "        const charts = await google.colab.kernel.invokeFunction(\n",
              "            'suggestCharts', [key], {});\n",
              "      } catch (error) {\n",
              "        console.error('Error during call to suggestCharts:', error);\n",
              "      }\n",
              "      quickchartButtonEl.classList.remove('colab-df-spinner');\n",
              "      quickchartButtonEl.classList.add('colab-df-quickchart-complete');\n",
              "    }\n",
              "    (() => {\n",
              "      let quickchartButtonEl =\n",
              "        document.querySelector('#df-6fccb3bc-7fe1-436e-b1cd-57f6a741367d button');\n",
              "      quickchartButtonEl.style.display =\n",
              "        google.colab.kernel.accessAllowed ? 'block' : 'none';\n",
              "    })();\n",
              "  </script>\n",
              "</div>\n",
              "\n",
              "    </div>\n",
              "  </div>\n"
            ],
            "application/vnd.google.colaboratory.intrinsic+json": {
              "type": "dataframe",
              "variable_name": "data",
              "summary": "{\n  \"name\": \"data\",\n  \"rows\": 2291,\n  \"fields\": [\n    {\n      \"column\": \"Datetime\",\n      \"properties\": {\n        \"dtype\": \"date\",\n        \"min\": \"2018-01-01 04:34:10.320672\",\n        \"max\": \"2019-12-31 18:43:37.271136\",\n        \"num_unique_values\": 2291,\n        \"samples\": [\n          \"2019-11-27 21:17:45.108096\",\n          \"2019-02-11 03:27:09.436608\",\n          \"2019-02-10 03:48:29.752416\"\n        ],\n        \"semantic_type\": \"\",\n        \"description\": \"\"\n      }\n    },\n    {\n      \"column\": \"SMA\",\n      \"properties\": {\n        \"dtype\": \"number\",\n        \"std\": 4.251829290939007,\n        \"min\": 6863.80687088211,\n        \"max\": 6873.48252340135,\n        \"num_unique_values\": 2249,\n        \"samples\": [\n          6872.97686953089,\n          6864.5716581169,\n          6873.00474679316\n        ],\n        \"semantic_type\": \"\",\n        \"description\": \"\"\n      }\n    },\n    {\n      \"column\": \"SMA_diff\",\n      \"properties\": {\n        \"dtype\": \"number\",\n        \"std\": 0.1287452778753178,\n        \"min\": -0.2588084754997908,\n        \"max\": 5.101008956229634,\n        \"num_unique_values\": 2285,\n        \"samples\": [\n          -0.0019546863995856256,\n          -0.00014987554004619597,\n          -0.003956859320169315\n        ],\n        \"semantic_type\": \"\",\n        \"description\": \"\"\n      }\n    },\n    {\n      \"column\": \"SMA_diff_shift\",\n      \"properties\": {\n        \"dtype\": \"number\",\n        \"std\": 0.1287452778753178,\n        \"min\": -0.2588084754997908,\n        \"max\": 5.101008956229634,\n        \"num_unique_values\": 2285,\n        \"samples\": [\n          -0.0019546863995856256,\n          -0.00014987554004619597,\n          -0.003956859320169315\n        ],\n        \"semantic_type\": \"\",\n        \"description\": \"\"\n      }\n    }\n  ]\n}"
            }
          },
          "metadata": {},
          "execution_count": 96
        }
      ]
    },
    {
      "cell_type": "code",
      "source": [
        "threshold = data['SMA_diff'].std() * 1.5\n",
        "print(f\"Threshold for detecting maneuvers: {threshold}\")"
      ],
      "metadata": {
        "colab": {
          "base_uri": "https://localhost:8080/"
        },
        "id": "nzfBIdGieEcE",
        "outputId": "54dce6ed-f6dc-4d69-c200-874f825f21ff"
      },
      "execution_count": 97,
      "outputs": [
        {
          "output_type": "stream",
          "name": "stdout",
          "text": [
            "Threshold for detecting maneuvers: 0.19311791681297671\n"
          ]
        }
      ]
    },
    {
      "cell_type": "code",
      "source": [
        "# Create labels: Maneuver (1) if change exceeds threshold, else No Maneuver (0)\n",
        "data['Label'] = (np.abs(data['SMA_diff']) > threshold).astype(int)\n",
        "\n",
        "# Drop rows with NaN values (first row due to diff)\n",
        "data = data.dropna()\n"
      ],
      "metadata": {
        "id": "vNZrfRnoecRU"
      },
      "execution_count": 98,
      "outputs": []
    },
    {
      "cell_type": "code",
      "source": [
        "# Check the distribution of labels (imbalanced data check)\n",
        "print(\"Label Distribution (0 = No Maneuver, 1 = Maneuver):\")\n",
        "print(data['Label'].value_counts())\n"
      ],
      "metadata": {
        "colab": {
          "base_uri": "https://localhost:8080/"
        },
        "id": "WqJhMI6Xegcu",
        "outputId": "a023577a-1632-4554-d25d-47e3cb9c0d03"
      },
      "execution_count": 99,
      "outputs": [
        {
          "output_type": "stream",
          "name": "stdout",
          "text": [
            "Label Distribution (0 = No Maneuver, 1 = Maneuver):\n",
            "Label\n",
            "0    2279\n",
            "1      10\n",
            "Name: count, dtype: int64\n"
          ]
        }
      ]
    },
    {
      "cell_type": "markdown",
      "source": [
        "**We can see it has detected 10 Maneuvers. Most of the labels are 0, which makes the dataset imbalance and this result in overfitting of the model. As we increase threshold the number of maneuvers will decrease.**"
      ],
      "metadata": {
        "id": "jPosWWxrekWD"
      }
    },
    {
      "cell_type": "code",
      "source": [
        "# Defining (X) and target labels (y)\n",
        "X = data[['SMA', 'SMA_diff', 'SMA_diff_shift']]\n",
        "y = data['Label']\n",
        "\n",
        "# Split data into training (50%) and testing sets (50%)\n",
        "X_train, X_test, y_train, y_test = train_test_split(X, y, test_size=0.3, random_state=42)\n",
        "\n",
        "# Random Forest Classifier\n",
        "rf = RandomForestClassifier(n_estimators=100, random_state=42)\n",
        "rf.fit(X_train, y_train)\n",
        "\n",
        "# Predictions on the test set\n",
        "y_pred = rf.predict(X_test)"
      ],
      "metadata": {
        "id": "jVVWvvKfi7hn"
      },
      "execution_count": 100,
      "outputs": []
    },
    {
      "cell_type": "code",
      "source": [
        "# Evaluate the model on the test set\n",
        "print(\"Accuracy Score on Test Set:\", accuracy_score(y_test, y_pred))\n",
        "print(\"Classification Report on Test Set:\\n\", classification_report(y_test, y_pred))\n",
        "\n",
        "# Confusion Matrix to better understand the performance\n",
        "cm = confusion_matrix(y_test, y_pred)\n",
        "print(\"Confusion Matrix:\\n\", cm)"
      ],
      "metadata": {
        "colab": {
          "base_uri": "https://localhost:8080/"
        },
        "id": "di8WEduRjDCp",
        "outputId": "a543a9b8-d84f-41be-f9eb-04bbd64be819"
      },
      "execution_count": 101,
      "outputs": [
        {
          "output_type": "stream",
          "name": "stdout",
          "text": [
            "Accuracy Score on Test Set: 0.9985443959243085\n",
            "Classification Report on Test Set:\n",
            "               precision    recall  f1-score   support\n",
            "\n",
            "           0       1.00      1.00      1.00       683\n",
            "           1       1.00      0.75      0.86         4\n",
            "\n",
            "    accuracy                           1.00       687\n",
            "   macro avg       1.00      0.88      0.93       687\n",
            "weighted avg       1.00      1.00      1.00       687\n",
            "\n",
            "Confusion Matrix:\n",
            " [[683   0]\n",
            " [  1   3]]\n"
          ]
        }
      ]
    },
    {
      "cell_type": "markdown",
      "source": [
        "**We are getting accuracy of 99%. So the model is overfitting. To reduce overfitting we can perform some hyperparameter tuning like- Increase test size, change standard deviation, or add more data to balance the dataset.**"
      ],
      "metadata": {
        "id": "xSBiBBz8jkLJ"
      }
    },
    {
      "cell_type": "code",
      "source": [
        "# Ploting Graph\n",
        "data['Predicted_Label'] = rf.predict(X)\n",
        "\n",
        "plt.figure(figsize=(10, 6))\n",
        "plt.plot(data['Datetime'], data['SMA'], label='SMA')\n",
        "\n",
        "plt.scatter(data[data['Label'] == 1]['Datetime'], data[data['Label'] == 1]['SMA'], color='red', label='Actual Maneuver', zorder=5)\n",
        "plt.scatter(data[data['Predicted_Label'] == 1]['Datetime'], data[data['Predicted_Label'] == 1]['SMA'], marker='v', color='blue', label='Predicted Maneuver', zorder=5)\n",
        "\n",
        "plt.xlabel('DateTime')\n",
        "plt.ylabel('SMA')\n",
        "plt.title('Orbital Maneuver Detection: Predicted vs Actual')\n",
        "plt.legend()\n",
        "plt.show()\n"
      ],
      "metadata": {
        "colab": {
          "base_uri": "https://localhost:8080/",
          "height": 564
        },
        "id": "2sWyqQANxGqu",
        "outputId": "25d6591d-056f-4936-c7a5-0ef0f8d7cb8b"
      },
      "execution_count": 102,
      "outputs": [
        {
          "output_type": "display_data",
          "data": {
            "text/plain": [
              "<Figure size 1000x600 with 1 Axes>"
            ],
            "image/png": "[encoded data removed]"
          },
          "metadata": {}
        }
      ]
    },
    {
      "cell_type": "code",
      "source": [
        "maneuver_dates_ML = data[data['Label'] == 1]['Datetime']\n",
        "\n",
        "print(\"Detected Maneuver Dates:\")\n",
        "for date in maneuver_dates_ML:\n",
        "    print(date)"
      ],
      "metadata": {
        "colab": {
          "base_uri": "https://localhost:8080/"
        },
        "id": "5WZNglSSqXqS",
        "outputId": "8dde08c9-ffbb-4a1b-d9b9-812f3d487a6e"
      },
      "execution_count": 119,
      "outputs": [
        {
          "output_type": "stream",
          "name": "stdout",
          "text": [
            "Detected Maneuver Dates:\n",
            "2018-05-03 12:01:31.056960\n",
            "2018-10-11 13:37:04.556640\n",
            "2019-03-26 04:53:33.243936\n",
            "2019-03-27 04:34:36.436800\n",
            "2019-03-27 20:25:37.599168\n",
            "2019-05-15 10:44:36.864096\n",
            "2019-05-16 16:43:16.023072\n",
            "2019-05-17 05:11:39.372288\n",
            "2019-09-11 04:28:22.151136\n",
            "2019-11-01 17:55:22.162656\n"
          ]
        }
      ]
    },
    {
      "cell_type": "markdown",
      "source": [
        "##Conclusion\n",
        "**Below are the comaprison between maneuvers predicted date by different methods**"
      ],
      "metadata": {
        "id": "4jzoOnnFluKJ"
      }
    },
    {
      "cell_type": "code",
      "source": [
        "#Dates from SMA\n",
        "maneuver_dates_ML= pd.to_datetime(maneuver_dates_ML)\n",
        "maneuver_dates_SMA= pd.to_datetime(maneuver_dates_SMA)\n",
        "maneuver_dates_speed= pd.to_datetime(maneuver_dates_speed)\n",
        "#Dates from Speed\n",
        "maneuver_dates_ML= maneuver_dates_ML.dt.strftime('%Y-%m-%d')\n",
        "maneuver_dates_SMA= maneuver_dates_SMA.dt.strftime('%Y-%m-%d')\n",
        "maneuver_dates_speed= maneuver_dates_speed.dt.strftime('%Y-%m-%d')\n",
        "\n",
        "comparison_df = pd.DataFrame({\n",
        "    'ML Model Dates': maneuver_dates_ML,\n",
        "    'SMA Dates': maneuver_dates_SMA,\n",
        "    'Speed Dates': maneuver_dates_speed\n",
        "})\n",
        "comparison_df"
      ],
      "metadata": {
        "colab": {
          "base_uri": "https://localhost:8080/",
          "height": 519
        },
        "id": "ajc2OOKnltlk",
        "outputId": "ec5f7544-5552-4093-c585-6c0e9f2335fd"
      },
      "execution_count": 118,
      "outputs": [
        {
          "output_type": "execute_result",
          "data": {
            "text/plain": [
              "     ML Model Dates   SMA Dates Speed Dates\n",
              "384      2018-05-03  2018-05-03  2018-05-03\n",
              "871      2018-10-11  2018-10-11  2018-10-11\n",
              "872             NaN         NaN  2018-10-11\n",
              "1421     2019-03-26  2019-03-26  2019-03-26\n",
              "1422     2019-03-27  2019-03-27  2019-03-27\n",
              "1423     2019-03-27  2019-03-27  2019-03-27\n",
              "1583     2019-05-15  2019-05-15  2019-05-15\n",
              "1585     2019-05-16         NaN  2019-05-16\n",
              "1587     2019-05-17  2019-05-17  2019-05-17\n",
              "1588            NaN         NaN  2019-05-17\n",
              "1589            NaN         NaN  2019-05-17\n",
              "1944     2019-09-11  2019-09-11  2019-09-11\n",
              "1945            NaN         NaN  2019-09-11\n",
              "1951            NaN         NaN  2019-09-13\n",
              "2120     2019-11-01         NaN  2019-11-01"
            ],
            "text/html": [
              "\n",
              "  <div id=\"df-34651168-4637-4b3c-b7b6-fd5fdddf2b76\" class=\"colab-df-container\">\n",
              "    <div>\n",
              "<style scoped>\n",
              "    .dataframe tbody tr th:only-of-type {\n",
              "        vertical-align: middle;\n",
              "    }\n",
              "\n",
              "    .dataframe tbody tr th {\n",
              "        vertical-align: top;\n",
              "    }\n",
              "\n",
              "    .dataframe thead th {\n",
              "        text-align: right;\n",
              "    }\n",
              "</style>\n",
              "<table border=\"1\" class=\"dataframe\">\n",
              "  <thead>\n",
              "    <tr style=\"text-align: right;\">\n",
              "      <th></th>\n",
              "      <th>ML Model Dates</th>\n",
              "      <th>SMA Dates</th>\n",
              "      <th>Speed Dates</th>\n",
              "    </tr>\n",
              "  </thead>\n",
              "  <tbody>\n",
              "    <tr>\n",
              "      <th>384</th>\n",
              "      <td>2018-05-03</td>\n",
              "      <td>2018-05-03</td>\n",
              "      <td>2018-05-03</td>\n",
              "    </tr>\n",
              "    <tr>\n",
              "      <th>871</th>\n",
              "      <td>2018-10-11</td>\n",
              "      <td>2018-10-11</td>\n",
              "      <td>2018-10-11</td>\n",
              "    </tr>\n",
              "    <tr>\n",
              "      <th>872</th>\n",
              "      <td>NaN</td>\n",
              "      <td>NaN</td>\n",
              "      <td>2018-10-11</td>\n",
              "    </tr>\n",
              "    <tr>\n",
              "      <th>1421</th>\n",
              "      <td>2019-03-26</td>\n",
              "      <td>2019-03-26</td>\n",
              "      <td>2019-03-26</td>\n",
              "    </tr>\n",
              "    <tr>\n",
              "      <th>1422</th>\n",
              "      <td>2019-03-27</td>\n",
              "      <td>2019-03-27</td>\n",
              "      <td>2019-03-27</td>\n",
              "    </tr>\n",
              "    <tr>\n",
              "      <th>1423</th>\n",
              "      <td>2019-03-27</td>\n",
              "      <td>2019-03-27</td>\n",
              "      <td>2019-03-27</td>\n",
              "    </tr>\n",
              "    <tr>\n",
              "      <th>1583</th>\n",
              "      <td>2019-05-15</td>\n",
              "      <td>2019-05-15</td>\n",
              "      <td>2019-05-15</td>\n",
              "    </tr>\n",
              "    <tr>\n",
              "      <th>1585</th>\n",
              "      <td>2019-05-16</td>\n",
              "      <td>NaN</td>\n",
              "      <td>2019-05-16</td>\n",
              "    </tr>\n",
              "    <tr>\n",
              "      <th>1587</th>\n",
              "      <td>2019-05-17</td>\n",
              "      <td>2019-05-17</td>\n",
              "      <td>2019-05-17</td>\n",
              "    </tr>\n",
              "    <tr>\n",
              "      <th>1588</th>\n",
              "      <td>NaN</td>\n",
              "      <td>NaN</td>\n",
              "      <td>2019-05-17</td>\n",
              "    </tr>\n",
              "    <tr>\n",
              "      <th>1589</th>\n",
              "      <td>NaN</td>\n",
              "      <td>NaN</td>\n",
              "      <td>2019-05-17</td>\n",
              "    </tr>\n",
              "    <tr>\n",
              "      <th>1944</th>\n",
              "      <td>2019-09-11</td>\n",
              "      <td>2019-09-11</td>\n",
              "      <td>2019-09-11</td>\n",
              "    </tr>\n",
              "    <tr>\n",
              "      <th>1945</th>\n",
              "      <td>NaN</td>\n",
              "      <td>NaN</td>\n",
              "      <td>2019-09-11</td>\n",
              "    </tr>\n",
              "    <tr>\n",
              "      <th>1951</th>\n",
              "      <td>NaN</td>\n",
              "      <td>NaN</td>\n",
              "      <td>2019-09-13</td>\n",
              "    </tr>\n",
              "    <tr>\n",
              "      <th>2120</th>\n",
              "      <td>2019-11-01</td>\n",
              "      <td>NaN</td>\n",
              "      <td>2019-11-01</td>\n",
              "    </tr>\n",
              "  </tbody>\n",
              "</table>\n",
              "</div>\n",
              "    <div class=\"colab-df-buttons\">\n",
              "\n",
              "  <div class=\"colab-df-container\">\n",
              "    <button class=\"colab-df-convert\" onclick=\"convertToInteractive('df-34651168-4637-4b3c-b7b6-fd5fdddf2b76')\"\n",
              "            title=\"Convert this dataframe to an interactive table.\"\n",
              "            style=\"display:none;\">\n",
              "\n",
              "  <svg xmlns=\"http://www.w3.org/2000/svg\" height=\"24px\" viewBox=\"0 -960 960 960\">\n",
              "    <path d=\"M120-120v-720h720v720H120Zm60-500h600v-160H180v160Zm220 220h160v-160H400v160Zm0 220h160v-160H400v160ZM180-400h160v-160H180v160Zm440 0h160v-160H620v160ZM180-180h160v-160H180v160Zm440 0h160v-160H620v160Z\"/>\n",
              "  </svg>\n",
              "    </button>\n",
              "\n",
              "  <style>\n",
              "    .colab-df-container {\n",
              "      display:flex;\n",
              "      gap: 12px;\n",
              "    }\n",
              "\n",
              "    .colab-df-convert {\n",
              "      background-color: #E8F0FE;\n",
              "      border: none;\n",
              "      border-radius: 50%;\n",
              "      cursor: pointer;\n",
              "      display: none;\n",
              "      fill: #1967D2;\n",
              "      height: 32px;\n",
              "      padding: 0 0 0 0;\n",
              "      width: 32px;\n",
              "    }\n",
              "\n",
              "    .colab-df-convert:hover {\n",
              "      background-color: #E2EBFA;\n",
              "      box-shadow: 0px 1px 2px rgba(60, 64, 67, 0.3), 0px 1px 3px 1px rgba(60, 64, 67, 0.15);\n",
              "      fill: #174EA6;\n",
              "    }\n",
              "\n",
              "    .colab-df-buttons div {\n",
              "      margin-bottom: 4px;\n",
              "    }\n",
              "\n",
              "    [theme=dark] .colab-df-convert {\n",
              "      background-color: #3B4455;\n",
              "      fill: #D2E3FC;\n",
              "    }\n",
              "\n",
              "    [theme=dark] .colab-df-convert:hover {\n",
              "      background-color: #434B5C;\n",
              "      box-shadow: 0px 1px 3px 1px rgba(0, 0, 0, 0.15);\n",
              "      filter: drop-shadow(0px 1px 2px rgba(0, 0, 0, 0.3));\n",
              "      fill: #FFFFFF;\n",
              "    }\n",
              "  </style>\n",
              "\n",
              "    <script>\n",
              "      const buttonEl =\n",
              "        document.querySelector('#df-34651168-4637-4b3c-b7b6-fd5fdddf2b76 button.colab-df-convert');\n",
              "      buttonEl.style.display =\n",
              "        google.colab.kernel.accessAllowed ? 'block' : 'none';\n",
              "\n",
              "      async function convertToInteractive(key) {\n",
              "        const element = document.querySelector('#df-34651168-4637-4b3c-b7b6-fd5fdddf2b76');\n",
              "        const dataTable =\n",
              "          await google.colab.kernel.invokeFunction('convertToInteractive',\n",
              "                                                    [key], {});\n",
              "        if (!dataTable) return;\n",
              "\n",
              "        const docLinkHtml = 'Like what you see? Visit the ' +\n",
              "          '<a target=\"_blank\" href=https://colab.research.google.com/notebooks/data_table.ipynb>data table notebook</a>'\n",
              "          + ' to learn more about interactive tables.';\n",
              "        element.innerHTML = '';\n",
              "        dataTable['output_type'] = 'display_data';\n",
              "        await google.colab.output.renderOutput(dataTable, element);\n",
              "        const docLink = document.createElement('div');\n",
              "        docLink.innerHTML = docLinkHtml;\n",
              "        element.appendChild(docLink);\n",
              "      }\n",
              "    </script>\n",
              "  </div>\n",
              "\n",
              "\n",
              "<div id=\"df-c80bfd24-08c4-4fa2-a7a0-96c770a2b4c5\">\n",
              "  <button class=\"colab-df-quickchart\" onclick=\"quickchart('df-c80bfd24-08c4-4fa2-a7a0-96c770a2b4c5')\"\n",
              "            title=\"Suggest charts\"\n",
              "            style=\"display:none;\">\n",
              "\n",
              "<svg xmlns=\"http://www.w3.org/2000/svg\" height=\"24px\"viewBox=\"0 0 24 24\"\n",
              "     width=\"24px\">\n",
              "    <g>\n",
              "        <path d=\"M19 3H5c-1.1 0-2 .9-2 2v14c0 1.1.9 2 2 2h14c1.1 0 2-.9 2-2V5c0-1.1-.9-2-2-2zM9 17H7v-7h2v7zm4 0h-2V7h2v10zm4 0h-2v-4h2v4z\"/>\n",
              "    </g>\n",
              "</svg>\n",
              "  </button>\n",
              "\n",
              "<style>\n",
              "  .colab-df-quickchart {\n",
              "      --bg-color: #E8F0FE;\n",
              "      --fill-color: #1967D2;\n",
              "      --hover-bg-color: #E2EBFA;\n",
              "      --hover-fill-color: #174EA6;\n",
              "      --disabled-fill-color: #AAA;\n",
              "      --disabled-bg-color: #DDD;\n",
              "  }\n",
              "\n",
              "  [theme=dark] .colab-df-quickchart {\n",
              "      --bg-color: #3B4455;\n",
              "      --fill-color: #D2E3FC;\n",
              "      --hover-bg-color: #434B5C;\n",
              "      --hover-fill-color: #FFFFFF;\n",
              "      --disabled-bg-color: #3B4455;\n",
              "      --disabled-fill-color: #666;\n",
              "  }\n",
              "\n",
              "  .colab-df-quickchart {\n",
              "    background-color: var(--bg-color);\n",
              "    border: none;\n",
              "    border-radius: 50%;\n",
              "    cursor: pointer;\n",
              "    display: none;\n",
              "    fill: var(--fill-color);\n",
              "    height: 32px;\n",
              "    padding: 0;\n",
              "    width: 32px;\n",
              "  }\n",
              "\n",
              "  .colab-df-quickchart:hover {\n",
              "    background-color: var(--hover-bg-color);\n",
              "    box-shadow: 0 1px 2px rgba(60, 64, 67, 0.3), 0 1px 3px 1px rgba(60, 64, 67, 0.15);\n",
              "    fill: var(--button-hover-fill-color);\n",
              "  }\n",
              "\n",
              "  .colab-df-quickchart-complete:disabled,\n",
              "  .colab-df-quickchart-complete:disabled:hover {\n",
              "    background-color: var(--disabled-bg-color);\n",
              "    fill: var(--disabled-fill-color);\n",
              "    box-shadow: none;\n",
              "  }\n",
              "\n",
              "  .colab-df-spinner {\n",
              "    border: 2px solid var(--fill-color);\n",
              "    border-color: transparent;\n",
              "    border-bottom-color: var(--fill-color);\n",
              "    animation:\n",
              "      spin 1s steps(1) infinite;\n",
              "  }\n",
              "\n",
              "  @keyframes spin {\n",
              "    0% {\n",
              "      border-color: transparent;\n",
              "      border-bottom-color: var(--fill-color);\n",
              "      border-left-color: var(--fill-color);\n",
              "    }\n",
              "    20% {\n",
              "      border-color: transparent;\n",
              "      border-left-color: var(--fill-color);\n",
              "      border-top-color: var(--fill-color);\n",
              "    }\n",
              "    30% {\n",
              "      border-color: transparent;\n",
              "      border-left-color: var(--fill-color);\n",
              "      border-top-color: var(--fill-color);\n",
              "      border-right-color: var(--fill-color);\n",
              "    }\n",
              "    40% {\n",
              "      border-color: transparent;\n",
              "      border-right-color: var(--fill-color);\n",
              "      border-top-color: var(--fill-color);\n",
              "    }\n",
              "    60% {\n",
              "      border-color: transparent;\n",
              "      border-right-color: var(--fill-color);\n",
              "    }\n",
              "    80% {\n",
              "      border-color: transparent;\n",
              "      border-right-color: var(--fill-color);\n",
              "      border-bottom-color: var(--fill-color);\n",
              "    }\n",
              "    90% {\n",
              "      border-color: transparent;\n",
              "      border-bottom-color: var(--fill-color);\n",
              "    }\n",
              "  }\n",
              "</style>\n",
              "\n",
              "  <script>\n",
              "    async function quickchart(key) {\n",
              "      const quickchartButtonEl =\n",
              "        document.querySelector('#' + key + ' button');\n",
              "      quickchartButtonEl.disabled = true;  // To prevent multiple clicks.\n",
              "      quickchartButtonEl.classList.add('colab-df-spinner');\n",
              "      try {\n",
              "        const charts = await google.colab.kernel.invokeFunction(\n",
              "            'suggestCharts', [key], {});\n",
              "      } catch (error) {\n",
              "        console.error('Error during call to suggestCharts:', error);\n",
              "      }\n",
              "      quickchartButtonEl.classList.remove('colab-df-spinner');\n",
              "      quickchartButtonEl.classList.add('colab-df-quickchart-complete');\n",
              "    }\n",
              "    (() => {\n",
              "      let quickchartButtonEl =\n",
              "        document.querySelector('#df-c80bfd24-08c4-4fa2-a7a0-96c770a2b4c5 button');\n",
              "      quickchartButtonEl.style.display =\n",
              "        google.colab.kernel.accessAllowed ? 'block' : 'none';\n",
              "    })();\n",
              "  </script>\n",
              "</div>\n",
              "\n",
              "  <div id=\"id_680bbedc-4ddc-46ff-89bb-733ac6b62c73\">\n",
              "    <style>\n",
              "      .colab-df-generate {\n",
              "        background-color: #E8F0FE;\n",
              "        border: none;\n",
              "        border-radius: 50%;\n",
              "        cursor: pointer;\n",
              "        display: none;\n",
              "        fill: #1967D2;\n",
              "        height: 32px;\n",
              "        padding: 0 0 0 0;\n",
              "        width: 32px;\n",
              "      }\n",
              "\n",
              "      .colab-df-generate:hover {\n",
              "        background-color: #E2EBFA;\n",
              "        box-shadow: 0px 1px 2px rgba(60, 64, 67, 0.3), 0px 1px 3px 1px rgba(60, 64, 67, 0.15);\n",
              "        fill: #174EA6;\n",
              "      }\n",
              "\n",
              "      [theme=dark] .colab-df-generate {\n",
              "        background-color: #3B4455;\n",
              "        fill: #D2E3FC;\n",
              "      }\n",
              "\n",
              "      [theme=dark] .colab-df-generate:hover {\n",
              "        background-color: #434B5C;\n",
              "        box-shadow: 0px 1px 3px 1px rgba(0, 0, 0, 0.15);\n",
              "        filter: drop-shadow(0px 1px 2px rgba(0, 0, 0, 0.3));\n",
              "        fill: #FFFFFF;\n",
              "      }\n",
              "    </style>\n",
              "    <button class=\"colab-df-generate\" onclick=\"generateWithVariable('comparison_df')\"\n",
              "            title=\"Generate code using this dataframe.\"\n",
              "            style=\"display:none;\">\n",
              "\n",
              "  <svg xmlns=\"http://www.w3.org/2000/svg\" height=\"24px\"viewBox=\"0 0 24 24\"\n",
              "       width=\"24px\">\n",
              "    <path d=\"M7,19H8.4L18.45,9,17,7.55,7,17.6ZM5,21V16.75L18.45,3.32a2,2,0,0,1,2.83,0l1.4,1.43a1.91,1.91,0,0,1,.58,1.4,1.91,1.91,0,0,1-.58,1.4L9.25,21ZM18.45,9,17,7.55Zm-12,3A5.31,5.31,0,0,0,4.9,8.1,5.31,5.31,0,0,0,1,6.5,5.31,5.31,0,0,0,4.9,4.9,5.31,5.31,0,0,0,6.5,1,5.31,5.31,0,0,0,8.1,4.9,5.31,5.31,0,0,0,12,6.5,5.46,5.46,0,0,0,6.5,12Z\"/>\n",
              "  </svg>\n",
              "    </button>\n",
              "    <script>\n",
              "      (() => {\n",
              "      const buttonEl =\n",
              "        document.querySelector('#id_680bbedc-4ddc-46ff-89bb-733ac6b62c73 button.colab-df-generate');\n",
              "      buttonEl.style.display =\n",
              "        google.colab.kernel.accessAllowed ? 'block' : 'none';\n",
              "\n",
              "      buttonEl.onclick = () => {\n",
              "        google.colab.notebook.generateWithVariable('comparison_df');\n",
              "      }\n",
              "      })();\n",
              "    </script>\n",
              "  </div>\n",
              "\n",
              "    </div>\n",
              "  </div>\n"
            ],
            "application/vnd.google.colaboratory.intrinsic+json": {
              "type": "dataframe",
              "variable_name": "comparison_df",
              "repr_error": "0"
            }
          },
          "metadata": {},
          "execution_count": 118
        }
      ]
    },
    {
      "cell_type": "markdown",
      "source": [
        "**We can see detecting based on only change in SMA is gives lots of maneuvers dates, which might incorrect. We can conclude Random Forest and Variation in speed methods have performed well.**"
      ],
      "metadata": {
        "id": "D1jFMwx8pn9P"
      }
    },
    {
      "cell_type": "code",
      "source": [],
      "metadata": {
        "id": "VYCPDeBPlGIn"
      },
      "execution_count": 103,
      "outputs": []
    }
  ]
}